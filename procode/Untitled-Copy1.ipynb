{
 "cells": [
  {
   "cell_type": "code",
   "execution_count": null,
   "id": "4490b261",
   "metadata": {},
   "outputs": [],
   "source": [
    "# general and data handling\n",
    "import numpy as np\n",
    "import pandas as pd\n",
    "import os\n",
    "from collections import Counter"
   ]
  },
  {
   "cell_type": "code",
   "execution_count": null,
   "id": "12159c8c",
   "metadata": {},
   "outputs": [],
   "source": [
    "#current directory\n",
    "os"
   ]
  },
  {
   "cell_type": "code",
   "execution_count": null,
   "id": "bd091920",
   "metadata": {},
   "outputs": [],
   "source": [
    "# Required RDKit modules\n",
    "import rdkit as rd\n",
    "from rdkit.Chem.Fingerprints import FingerprintMols\n",
    "from rdkit import RDConfig\n",
    "from rdkit.Chem import PandasTools\n",
    "from rdkit import Chem\n",
    "from rdkit.Chem.Draw import IPythonConsole\n",
    "from rdkit.Chem import rdFingerprintGenerator\n",
    "from rdkit import DataStructs\n",
    "from rdkit.Chem import AllChem \n",
    "from rdkit.Chem.rdMolDescriptors import GetAtomPairFingerprint\n",
    "from rdkit.Chem.AtomPairs import Torsions\n",
    "from rdkit.Chem import Draw\n",
    "from rdkit.Chem import MACCSkeys\n",
    "from rdkit.Chem import rdmolops\n",
    "from rdkit.Chem import rdMolDescriptors"
   ]
  },
  {
   "cell_type": "code",
   "execution_count": null,
   "id": "f8674da8",
   "metadata": {},
   "outputs": [],
   "source": [
    "# modeling\n",
    "import sklearn as sk\n",
    "from sklearn import metrics"
   ]
  },
  {
   "cell_type": "code",
   "execution_count": null,
   "id": "585cd4ee",
   "metadata": {},
   "outputs": [],
   "source": [
    "# Graphing\n",
    "import matplotlib.pyplot as plt\n",
    "import seaborn as sns"
   ]
  },
  {
   "cell_type": "code",
   "execution_count": null,
   "id": "3afa0454",
   "metadata": {},
   "outputs": [],
   "source": [
    "#loading sdfFile\n",
    "sdfFile = os.path.join(RDConfig.RDDataDir, 'C:\\\\Users\\\\ADMIN\\\\Desktop\\\\structures.molV3.sdf')"
   ]
  },
  {
   "cell_type": "code",
   "execution_count": null,
   "id": "b6f9097b",
   "metadata": {},
   "outputs": [],
   "source": [
    "#adding columns to pandas\n",
    "dframe = PandasTools.LoadSDF(sdfFile,smilesName='SMILES',molColName='Molecule', includeFingerprints=True)"
   ]
  },
  {
   "cell_type": "code",
   "execution_count": null,
   "id": "45afda0f",
   "metadata": {},
   "outputs": [],
   "source": [
    "#table content\n",
    "dframe"
   ]
  },
  {
   "cell_type": "code",
   "execution_count": null,
   "id": "35bd5407",
   "metadata": {},
   "outputs": [],
   "source": [
    "#table columns\n",
    "dframe.columns"
   ]
  },
  {
   "cell_type": "code",
   "execution_count": null,
   "id": "44c48f6e",
   "metadata": {},
   "outputs": [],
   "source": [
    "# drop columns from pandas \n",
    "data=dframe.drop(['ID', 'PREFERRED_NAME', 'CAS_RN', 'SYNONYMS', 'URL','Molecule', 'type', 'CAS', 'Name', 'Ambiguous'],axis=1)"
   ]
  },
  {
   "cell_type": "code",
   "execution_count": null,
   "id": "a9c3d59b",
   "metadata": {},
   "outputs": [],
   "source": [
    "#reading mol from smiles\n",
    "data[\"mol\"] = [Chem.MolFromSmiles(x) for x in dframe[\"SMILES\"]]"
   ]
  },
  {
   "cell_type": "code",
   "execution_count": null,
   "id": "ed34a90a",
   "metadata": {},
   "outputs": [],
   "source": [
    "#count the nummber of unique rows in the SMILES column\n",
    "data['SMILES'].nunique()"
   ]
  },
  {
   "cell_type": "code",
   "execution_count": null,
   "id": "c1a097dc",
   "metadata": {},
   "outputs": [],
   "source": [
    "#Compare that with total rows\n",
    "data['SMILES'].count()"
   ]
  },
  {
   "cell_type": "code",
   "execution_count": null,
   "id": "f8b15a06",
   "metadata": {},
   "outputs": [],
   "source": [
    "#we can drop the duplicated ones\n",
    "data=data.drop_duplicates(['SMILES'])\n",
    "display(data)"
   ]
  },
  {
   "cell_type": "code",
   "execution_count": null,
   "id": "40033124",
   "metadata": {},
   "outputs": [],
   "source": [
    "#atompair fingerprint(Generate BitVect fingerprints)\n",
    "MinLength=1\n",
    "MaxLength=7\n",
    "FPSize = 2048\n",
    "BitsPerHash = 2       \n",
    "data[\"atom_fp\"] = [rdMolDescriptors.GetHashedAtomPairFingerprintAsBitVect(x, minLength = MinLength, maxLength = MaxLength, includeChirality = True, nBits = FPSize, nBitsPerEntry = BitsPerHash) for x in data['mol']]"
   ]
  },
  {
   "cell_type": "code",
   "execution_count": null,
   "id": "1aff8637",
   "metadata": {},
   "outputs": [],
   "source": [
    "data[\"atom_fp\"] "
   ]
  },
  {
   "cell_type": "code",
   "execution_count": null,
   "id": "e0052b62",
   "metadata": {},
   "outputs": [],
   "source": [
    "atom_fp = [rdMolDescriptors.GetHashedAtomPairFingerprintAsBitVect(x, minLength = MinLength, maxLength = MaxLength, includeChirality = True) for x in data['mol']]"
   ]
  },
  {
   "cell_type": "code",
   "execution_count": null,
   "id": "4c63f88d",
   "metadata": {},
   "outputs": [],
   "source": [
    "atom_fp"
   ]
  },
  {
   "cell_type": "code",
   "execution_count": null,
   "id": "fe502edc",
   "metadata": {},
   "outputs": [],
   "source": [
    "len(atom_fp[1])"
   ]
  },
  {
   "cell_type": "code",
   "execution_count": null,
   "id": "1e55a7f8",
   "metadata": {},
   "outputs": [],
   "source": [
    "print(atom_fp[1].GetNumBits())\n",
    "print(atom_fp[1].GetNumOffBits())\n",
    "print(atom_fp[1].GetNumOnBits())\n",
    "print(atom_fp[1].ToBinary())"
   ]
  },
  {
   "cell_type": "code",
   "execution_count": null,
   "id": "69b98a58",
   "metadata": {},
   "outputs": [],
   "source": [
    "# convert the RDKit explicit vectors into numpy arrays\n",
    "atom_fp_np = []\n",
    "for fp in atom_fp:\n",
    "  arr = np.zeros((1,))\n",
    "  DataStructs.ConvertToNumpyArray(fp, arr)\n",
    "  atom_fp_np.append(arr)"
   ]
  },
  {
   "cell_type": "code",
   "execution_count": null,
   "id": "66bd2909",
   "metadata": {},
   "outputs": [],
   "source": [
    "#tanimota similarity for atompair fingerprint\n",
    "data['atom_tanimoto'] = DataStructs.BulkTanimotoSimilarity(atom_fp[0], atom_fp)\n",
    "data['atom_tanimoto']"
   ]
  },
  {
   "cell_type": "code",
   "execution_count": null,
   "id": "28fc171c",
   "metadata": {},
   "outputs": [],
   "source": [
    "#drawing molstructure for tanimoto values\n",
    "Draw.MolsToGridImage(data[\"mol\"], molsPerRow=5, subImgSize=(200,200), legends=['Tanimoto: {:.2f}'.format(i) for i in data['atom_tanimoto']])"
   ]
  },
  {
   "cell_type": "code",
   "execution_count": null,
   "id": "50bef852",
   "metadata": {},
   "outputs": [],
   "source": [
    "#MACCSKEY\n",
    "data[\"mac_fp\"]=[rdMolDescriptors.GetMACCSKeysFingerprint(x) for x in data['mol']]"
   ]
  },
  {
   "cell_type": "code",
   "execution_count": null,
   "id": "0dafcbeb",
   "metadata": {},
   "outputs": [],
   "source": [
    "data[\"mac_fp\"]"
   ]
  },
  {
   "cell_type": "code",
   "execution_count": null,
   "id": "840e89f5",
   "metadata": {},
   "outputs": [],
   "source": [
    "mac_fp =[rdMolDescriptors.GetMACCSKeysFingerprint(x) for x in data['mol']]"
   ]
  },
  {
   "cell_type": "code",
   "execution_count": null,
   "id": "894fd63e",
   "metadata": {},
   "outputs": [],
   "source": [
    "mac_fp"
   ]
  },
  {
   "cell_type": "code",
   "execution_count": null,
   "id": "1e637447",
   "metadata": {},
   "outputs": [],
   "source": [
    "len(mac_fp[1])"
   ]
  },
  {
   "cell_type": "code",
   "execution_count": null,
   "id": "312c579a",
   "metadata": {},
   "outputs": [],
   "source": [
    "print(mac_fp[1].GetNumBits())\n",
    "print(mac_fp[1].GetNumOffBits())\n",
    "print(mac_fp[1].GetNumOnBits())\n",
    "print(mac_fp[1].ToBinary())"
   ]
  },
  {
   "cell_type": "code",
   "execution_count": null,
   "id": "56e6f518",
   "metadata": {},
   "outputs": [],
   "source": [
    "# convert the RDKit explicit vectors into numpy arrays\n",
    "mac_fp_np = []\n",
    "for fp in mac_fp:\n",
    "  arr = np.zeros((1,))\n",
    "  DataStructs.ConvertToNumpyArray(fp, arr)\n",
    "  mac_fp_np.append(arr)"
   ]
  },
  {
   "cell_type": "code",
   "execution_count": null,
   "id": "83591211",
   "metadata": {},
   "outputs": [],
   "source": [
    "#tanimota similarity for maccskey fingerprint\n",
    "data['mac_tanimoto'] = DataStructs.BulkTanimotoSimilarity(mac_fp[0], mac_fp)\n",
    "data['mac_tanimoto'] "
   ]
  },
  {
   "cell_type": "code",
   "execution_count": null,
   "id": "4a1dcf79",
   "metadata": {},
   "outputs": [],
   "source": [
    "#from maccskey tanimoto values\n",
    "Draw.MolsToGridImage(data[\"mol\"], molsPerRow=5, subImgSize=(200,200), legends=['Tanimoto: {:.2f}'.format(i) for i in data['mac_tanimoto']])"
   ]
  },
  {
   "cell_type": "code",
   "execution_count": null,
   "id": "de24806b",
   "metadata": {},
   "outputs": [],
   "source": [
    "#Morgan fingerprint\n",
    "#create a \"morg_fp\" column\n",
    "data[\"morg_fp\"] = [AllChem.GetMorganFingerprintAsBitVect(x, 2,  nBits = 2048) for x in data['mol']]"
   ]
  },
  {
   "cell_type": "code",
   "execution_count": null,
   "id": "90cb296c",
   "metadata": {},
   "outputs": [],
   "source": [
    "data[\"morg_fp\"]"
   ]
  },
  {
   "cell_type": "code",
   "execution_count": null,
   "id": "a74372c9",
   "metadata": {},
   "outputs": [],
   "source": [
    "# generate morgan fingeprints with radius 2 contained in a list\n",
    "morg_fp = [AllChem.GetMorganFingerprintAsBitVect(x, 2, nBits = 2048) for x in data['mol']]"
   ]
  },
  {
   "cell_type": "code",
   "execution_count": null,
   "id": "04c7cf75",
   "metadata": {},
   "outputs": [],
   "source": [
    "morg_fp"
   ]
  },
  {
   "cell_type": "code",
   "execution_count": null,
   "id": "f30722b7",
   "metadata": {},
   "outputs": [],
   "source": [
    "len(morg_fp[1])"
   ]
  },
  {
   "cell_type": "code",
   "execution_count": null,
   "id": "6da68a7c",
   "metadata": {},
   "outputs": [],
   "source": [
    "print(morg_fp[1].GetNumBits())\n",
    "print(morg_fp[1].GetNumOffBits())\n",
    "print(morg_fp[1].GetNumOnBits())\n",
    "print(morg_fp[1].ToBinary())"
   ]
  },
  {
   "cell_type": "code",
   "execution_count": null,
   "id": "7c9fdab2",
   "metadata": {},
   "outputs": [],
   "source": [
    "# convert the RDKit explicit vectors into numpy arrays\n",
    "morg_fp_np = []\n",
    "for fp in morg_fp:\n",
    "  arr = np.zeros((1,))\n",
    "  DataStructs.ConvertToNumpyArray(fp, arr)\n",
    "  morg_fp_np.append(arr)"
   ]
  },
  {
   "cell_type": "code",
   "execution_count": null,
   "id": "e3697782",
   "metadata": {},
   "outputs": [],
   "source": [
    "morg_fp_np"
   ]
  },
  {
   "cell_type": "code",
   "execution_count": null,
   "id": "f30003ea",
   "metadata": {},
   "outputs": [],
   "source": [
    "#tanimota similarity for morgan fingerprint\n",
    "data['morg_tanimoto'] = DataStructs.BulkTanimotoSimilarity(morg_fp[0], morg_fp)\n",
    "data['morg_tanimoto'] "
   ]
  },
  {
   "cell_type": "code",
   "execution_count": null,
   "id": "dc895c52",
   "metadata": {},
   "outputs": [],
   "source": [
    "# drawing images from morgan tanimoto values\n",
    "Draw.MolsToGridImage(data[\"mol\"], molsPerRow=5, subImgSize=(200,200), legends=['Tanimoto: {:.2f}'.format(i) for i in data['morg_tanimoto']])"
   ]
  },
  {
   "cell_type": "code",
   "execution_count": null,
   "id": "e3afc74f",
   "metadata": {},
   "outputs": [],
   "source": [
    "#pathlength or daylight fingerprint\n",
    "data['palen_fp'] = [FingerprintMols.FingerprintMol(x, minPath=1, maxPath=7, fpSize=2048, bitsPerHash=2, useHs=True, tgtDensity=0.0,\n",
    "                               minSize=64 ) for x in data['mol']]"
   ]
  },
  {
   "cell_type": "code",
   "execution_count": null,
   "id": "377c9494",
   "metadata": {},
   "outputs": [],
   "source": [
    "data['palen_fp']"
   ]
  },
  {
   "cell_type": "code",
   "execution_count": null,
   "id": "5595a8be",
   "metadata": {},
   "outputs": [],
   "source": [
    "palen_fp =  [FingerprintMols.FingerprintMol(x, minPath=1, maxPath=7, fpSize=2048, bitsPerHash=2, useHs=True, tgtDensity=0.0, minSize=64,) for x in data['mol']]"
   ]
  },
  {
   "cell_type": "code",
   "execution_count": null,
   "id": "cac62d45",
   "metadata": {
    "scrolled": false
   },
   "outputs": [],
   "source": [
    "palen_fp"
   ]
  },
  {
   "cell_type": "code",
   "execution_count": null,
   "id": "9c17b31b",
   "metadata": {},
   "outputs": [],
   "source": [
    "len(palen_fp[1])"
   ]
  },
  {
   "cell_type": "code",
   "execution_count": null,
   "id": "52e1f867",
   "metadata": {},
   "outputs": [],
   "source": [
    "print(palen_fp[1].GetNumBits())\n",
    "print(palen_fp[1].GetNumOffBits())\n",
    "print(palen_fp[1].GetNumOnBits())\n",
    "print(palen_fp[1].ToBinary())"
   ]
  },
  {
   "cell_type": "code",
   "execution_count": null,
   "id": "ee68e6f2",
   "metadata": {},
   "outputs": [],
   "source": [
    "# convert the RDKit explicit vectors into numpy arrays\n",
    "palen_fp_np = []\n",
    "for fp in palen_fp:\n",
    "  arr = np.zeros((1,))\n",
    "  DataStructs.ConvertToNumpyArray(fp, arr)\n",
    "  palen_fp_np.append(arr)"
   ]
  },
  {
   "cell_type": "code",
   "execution_count": null,
   "id": "f71c7429",
   "metadata": {},
   "outputs": [],
   "source": [
    "palen_fp_np"
   ]
  },
  {
   "cell_type": "code",
   "execution_count": null,
   "id": "624f20e4",
   "metadata": {},
   "outputs": [],
   "source": [
    "#tanimota similarity for path_based fingerprint\n",
    "data['palen_tanimoto'] = DataStructs.BulkTanimotoSimilarity(palen_fp[0], palen_fp)\n",
    "data['palen_tanimoto']"
   ]
  },
  {
   "cell_type": "code",
   "execution_count": null,
   "id": "d42d4a6b",
   "metadata": {},
   "outputs": [],
   "source": [
    "#drawing molstructure for tanimoto values\n",
    "Draw.MolsToGridImage(data[\"mol\"], molsPerRow=5, subImgSize=(200,200), legends=['Tanimoto: {:.2f}'.format(i) for i in data['palen_tanimoto']])"
   ]
  },
  {
   "cell_type": "code",
   "execution_count": null,
   "id": "a0ebdf79",
   "metadata": {},
   "outputs": [],
   "source": [
    "#Topological fingerprint\n",
    "FPSize = 2048\n",
    "BitsPerHash = 4 \n",
    "data[\"toptor_fp\"] = [rdMolDescriptors.GetHashedTopologicalTorsionFingerprintAsBitVect(x,  includeChirality = True, nBits = FPSize, nBitsPerEntry = BitsPerHash) for x in data['mol']]"
   ]
  },
  {
   "cell_type": "code",
   "execution_count": null,
   "id": "55db7727",
   "metadata": {},
   "outputs": [],
   "source": [
    "data[\"toptor_fp\"]"
   ]
  },
  {
   "cell_type": "code",
   "execution_count": null,
   "id": "1a319072",
   "metadata": {},
   "outputs": [],
   "source": [
    "toptor_fp = [rdMolDescriptors.GetHashedTopologicalTorsionFingerprintAsBitVect(x,  includeChirality = True, nBits = FPSize, nBitsPerEntry = BitsPerHash) for x in data['mol']]"
   ]
  },
  {
   "cell_type": "code",
   "execution_count": null,
   "id": "2a9b74ac",
   "metadata": {},
   "outputs": [],
   "source": [
    "toptor_fp"
   ]
  },
  {
   "cell_type": "code",
   "execution_count": null,
   "id": "f170c64b",
   "metadata": {},
   "outputs": [],
   "source": [
    "len(toptor_fp[1])"
   ]
  },
  {
   "cell_type": "code",
   "execution_count": null,
   "id": "38fc44ef",
   "metadata": {},
   "outputs": [],
   "source": [
    "print(toptor_fp[1].GetNumBits())\n",
    "print(toptor_fp[1].GetNumOffBits())\n",
    "print(toptor_fp[1].GetNumOnBits())\n",
    "print(toptor_fp[1].ToBinary())"
   ]
  },
  {
   "cell_type": "code",
   "execution_count": null,
   "id": "d3dd257d",
   "metadata": {},
   "outputs": [],
   "source": [
    "# convert the RDKit explicit vectors into numpy arrays\n",
    "toptor_fp_np = []\n",
    "for fp in toptor_fp:\n",
    "  arr = np.zeros((1,))\n",
    "  DataStructs.ConvertToNumpyArray(fp, arr)\n",
    "  toptor_fp_np.append(arr)"
   ]
  },
  {
   "cell_type": "code",
   "execution_count": null,
   "id": "22465f00",
   "metadata": {},
   "outputs": [],
   "source": [
    "toptor_fp_np"
   ]
  },
  {
   "cell_type": "code",
   "execution_count": null,
   "id": "a9814daa",
   "metadata": {},
   "outputs": [],
   "source": [
    "#tanimota similarity for topological fingerprint\n",
    "data['toptor_tanimoto'] = DataStructs.BulkTanimotoSimilarity(toptor_fp[0], toptor_fp)\n",
    "data['toptor_tanimoto']"
   ]
  },
  {
   "cell_type": "code",
   "execution_count": null,
   "id": "81b02e4b",
   "metadata": {},
   "outputs": [],
   "source": [
    "#drawing molstructure for tanimoto values\n",
    "Draw.MolsToGridImage(data[\"mol\"], molsPerRow=5, subImgSize=(200,200), legends=['Tanimoto: {:.2f}'.format(i) for i in data['toptor_tanimoto']])"
   ]
  },
  {
   "cell_type": "code",
   "execution_count": null,
   "id": "db1f968e",
   "metadata": {},
   "outputs": [],
   "source": [
    "data"
   ]
  },
  {
   "cell_type": "code",
   "execution_count": null,
   "id": "3eb9fac2",
   "metadata": {},
   "outputs": [],
   "source": [
    "data.columns"
   ]
  },
  {
   "cell_type": "code",
   "execution_count": null,
   "id": "cca6e8c8",
   "metadata": {},
   "outputs": [],
   "source": [
    "# Drop the non-transformed columns\n",
    "data = data.drop(columns = ['SMILES', 'mol'])"
   ]
  },
  {
   "cell_type": "code",
   "execution_count": null,
   "id": "7d8ee88f",
   "metadata": {},
   "outputs": [],
   "source": [
    "sns.pairplot(data)"
   ]
  },
  {
   "cell_type": "code",
   "execution_count": null,
   "id": "6241970c",
   "metadata": {},
   "outputs": [],
   "source": [
    "data"
   ]
  },
  {
   "cell_type": "code",
   "execution_count": null,
   "id": "f25feb76",
   "metadata": {},
   "outputs": [],
   "source": [
    "data = data.drop(columns = ['atom_fp', 'mac_fp','morg_fp','palen_fp','toptor_fp'])"
   ]
  },
  {
   "cell_type": "code",
   "execution_count": null,
   "id": "8d54a271",
   "metadata": {},
   "outputs": [],
   "source": [
    "data"
   ]
  },
  {
   "cell_type": "code",
   "execution_count": null,
   "id": "e41dbf52",
   "metadata": {},
   "outputs": [],
   "source": [
    "data.columns"
   ]
  },
  {
   "cell_type": "code",
   "execution_count": null,
   "id": "cf0deb69",
   "metadata": {},
   "outputs": [],
   "source": [
    "#fuzzy c-means clustering\n",
    "### Importing the required Libraries\n",
    "import random\n",
    "import operator\n",
    "import math"
   ]
  },
  {
   "cell_type": "code",
   "execution_count": null,
   "id": "a3b80ef2",
   "metadata": {},
   "outputs": [],
   "source": [
    "# Number of Attributes\n",
    "num_attr = len(data.columns) - 1\n",
    "\n",
    "# Number of Clusters to make\n",
    "k = 5\n",
    "\n",
    "# Maximum number of iterations\n",
    "MAX_ITER = 100\n",
    "\n",
    "# Number of data points\n",
    "n = len(data)\n",
    "\n",
    "# Fuzzy parameter\n",
    "m = 2.00"
   ]
  },
  {
   "cell_type": "code",
   "execution_count": null,
   "id": "3f369a77",
   "metadata": {},
   "outputs": [],
   "source": []
  },
  {
   "cell_type": "code",
   "execution_count": null,
   "id": "82d1b364",
   "metadata": {},
   "outputs": [],
   "source": [
    "### initializing the membership matrix with random values\n",
    "def initializeMembershipMatrix():\n",
    "    membership_mat = list()\n",
    "    for i in range(n):\n",
    "        random_num_list = [random.random() for i in range(k)]\n",
    "        summation = sum(random_num_list)\n",
    "        temp_list = [x/summation for x in random_num_list]\n",
    "        membership_mat.append(temp_list)\n",
    "    return membership_mat\n"
   ]
  },
  {
   "cell_type": "code",
   "execution_count": null,
   "id": "715cdde8",
   "metadata": {},
   "outputs": [],
   "source": [
    "membership_mat = initializeMembershipMatrix()"
   ]
  },
  {
   "cell_type": "code",
   "execution_count": null,
   "id": "de2aa5cc",
   "metadata": {},
   "outputs": [],
   "source": [
    "### calculating the cluster center, is done in every iteration\n",
    "\n",
    "def calculateClusterCenter(membership_mat):\n",
    "    cluster_mem_val = list(zip(*membership_mat))\n",
    "    cluster_centers = list()\n",
    "    for j in range(k):\n",
    "        x = list(cluster_mem_val[j])\n",
    "        xraised = [e ** m for e in x]\n",
    "        denominator = sum(xraised)\n",
    "        temp_num = list()\n",
    "        for i in range(n):\n",
    "            data_point = list(data.iloc[i])\n",
    "            prod = [xraised[i] * val for val in data_point]\n",
    "            temp_num.append(prod)\n",
    "        numerator = map(sum, zip(*temp_num))\n",
    "        center = [z/denominator for z in numerator]\n",
    "        cluster_centers.append(center)\n",
    "    return cluster_centers"
   ]
  },
  {
   "cell_type": "code",
   "execution_count": null,
   "id": "70ed7d74",
   "metadata": {},
   "outputs": [],
   "source": [
    "#cluster_centers = calculateClusterCenter(membership_mat)\n",
    "calculateClusterCenter(membership_mat)"
   ]
  },
  {
   "cell_type": "code",
   "execution_count": null,
   "id": "159412d1",
   "metadata": {},
   "outputs": [],
   "source": [
    "### updating the membership values using the cluster centers\n",
    "\n",
    "def updateMembershipValue(membership_mat, cluster_centers):\n",
    "    p = float(2/(m-1))\n",
    "    for i in range(n):\n",
    "        x = list(data.iloc[i])\n",
    "        distances = [np.linalg.norm(list(map(operator.sub, x, cluster_centers[j]))) for j in range(k)]\n",
    "        for j in range(k):\n",
    "            den = sum([math.pow(float(distances[j]/distances[c]), p) for c in range(k)])\n",
    "            membership_mat[i][j] = float(1/den)       \n",
    "    return membership_mat"
   ]
  },
  {
   "cell_type": "code",
   "execution_count": null,
   "id": "15657c59",
   "metadata": {},
   "outputs": [],
   "source": [
    "def getClusters(membership_mat):\n",
    "    cluster_labels = list()\n",
    "    for i in range(n):\n",
    "        max_val, idx = max((val, idx) for (idx, val) in enumerate(membership_mat[i]))\n",
    "        cluster_labels.append(idx)\n",
    "    return cluster_labels"
   ]
  },
  {
   "cell_type": "code",
   "execution_count": null,
   "id": "70d04274",
   "metadata": {},
   "outputs": [],
   "source": [
    "### the final fcm function, \n",
    "\n",
    "def fuzzyCMeansClustering():\n",
    "    # Membership Matrix\n",
    "    membership_mat = initializeMembershipMatrix()\n",
    "    curr = 0\n",
    "    while curr <= MAX_ITER:\n",
    "        cluster_centers = calculateClusterCenter(membership_mat)\n",
    "        membership_mat = updateMembershipValue(membership_mat, cluster_centers)\n",
    "        cluster_labels = getClusters(membership_mat)\n",
    "        curr += 1\n",
    "    \n",
    "    print(membership_mat)\n",
    "    return cluster_labels, cluster_centers"
   ]
  },
  {
   "cell_type": "code",
   "execution_count": null,
   "id": "df44cc8b",
   "metadata": {},
   "outputs": [],
   "source": [
    "### calling the main function and storing the final results in labels, centers\n",
    "\n",
    "print(\"printing the final membership matrix\")\n",
    "\n",
    "labels, centers = fuzzyCMeansClustering()\n",
    "\n",
    "print(\"printing cluster centers\")\n",
    "print(centers)"
   ]
  },
  {
   "cell_type": "code",
   "execution_count": null,
   "id": "ea1ab7c4",
   "metadata": {},
   "outputs": [],
   "source": [
    "from sklearn.metrics import silhouette_score \n",
    "from sklearn.metrics import calinski_harabasz_score\n",
    "from sklearn.metrics import davies_bouldin_score\n",
    "score_fuzzy_s = silhouette_score(n,labels, metric='euclidean')\n",
    "score_fuzzy_c = calinski_harabasz_score(x, labels_)\n",
    "score_fuzzy_d = davies_bouldin_score(x, labels)\n",
    "print('Silhouette Score: %.4f' % score_fuzzy_s)\n",
    "print('Calinski Harabasz Score: %.4f' % score_fuzzy_c)\n",
    "print('Davies Bouldin Score: %.4f' % score_fuzzy_d)"
   ]
  },
  {
   "cell_type": "code",
   "execution_count": null,
   "id": "355752cb",
   "metadata": {},
   "outputs": [],
   "source": []
  }
 ],
 "metadata": {
  "kernelspec": {
   "display_name": "Python 3 (ipykernel)",
   "language": "python",
   "name": "python3"
  },
  "language_info": {
   "codemirror_mode": {
    "name": "ipython",
    "version": 3
   },
   "file_extension": ".py",
   "mimetype": "text/x-python",
   "name": "python",
   "nbconvert_exporter": "python",
   "pygments_lexer": "ipython3",
   "version": "3.9.7"
  }
 },
 "nbformat": 4,
 "nbformat_minor": 5
}
